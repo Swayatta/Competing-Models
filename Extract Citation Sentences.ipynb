{
 "cells": [
  {
   "cell_type": "code",
   "execution_count": 1,
   "metadata": {},
   "outputs": [],
   "source": [
    "import nltk\n",
    "from nltk import pos_tag\n",
    "from nltk.tokenize import sent_tokenize,word_tokenize\n",
    "import re\n",
    "from os.path import isfile, join\n",
    "from os import listdir"
   ]
  },
  {
   "cell_type": "code",
   "execution_count": 2,
   "metadata": {},
   "outputs": [
    {
     "name": "stdout",
     "output_type": "stream",
     "text": [
      "E:\\Jupyter\\Competing Models\n"
     ]
    }
   ],
   "source": [
    "#Navigate to the root\n",
    "%cd E:\\Jupyter\\Competing Models"
   ]
  },
  {
   "cell_type": "code",
   "execution_count": 4,
   "metadata": {},
   "outputs": [],
   "source": [
    "\n",
    "######################## Getting citation sentences ##############################\n",
    "\n",
    "def get_citation_sentences(sentences, springer=True):\n",
    "    author = \"(?:[A-Z][A-Za-z'`-]+)\"\n",
    "    etal = \"(?:et al.?)\"\n",
    "    additional = \"(?:,? (?:(?:and |& )?\" + author + \"|\" + etal + \"))\"\n",
    "    year_num = \"(?:19|20)[0-9][0-9]\"\n",
    "    page_num = \"(?:, p.? [0-9]+)?\"  # Always optional\n",
    "    year = \"(?:, *\"+year_num+page_num+\"| *\\(\"+year_num+page_num+\"\\))\"\n",
    "    totcit = \"(\" + author + additional+\"*\" + year + \")\"\n",
    "    citation_sentences = []\n",
    "    if springer == False:\n",
    "        for sentence in sentences:\n",
    "            if re.search(totcit, sentence):\n",
    "                #print(re.findall(totcit, sentence))\n",
    "                citation_sentences.append(sentence)\n",
    "    else:\n",
    "        matcher = '\\[[0-9]+\\]'\n",
    "        for sentence in sentences:\n",
    "            if re.search(matcher, sentence):\n",
    "                if (\"dataset\" or \"datasets\" or \"database\" or \"databases\" or \"organization\" or \"organizations\" or \"university\" or \"universities\")not in sentence.lower():\n",
    "                    citation_sentences.append(sentence)\n",
    "    return totcit, citation_sentences"
   ]
  },
  {
   "cell_type": "code",
   "execution_count": 6,
   "metadata": {},
   "outputs": [],
   "source": [
    "parentdir = '.\\data'\n",
    "textdir = \"Text\"\n",
    "\n",
    "inputfolder = join(parentdir, textdir)\n",
    "fileslist = [f for f in listdir(inputfolder) if isfile(\n",
    "    join(inputfolder, f))]\n",
    "fileslist.sort()\n",
    "citsentlist, classifiedsent = [], []\n",
    "for filename in fileslist:\n",
    "    text = \"\"\n",
    "    filepath = join(parentdir, \"Text\")+\"/\"+filename\n",
    "    file = open(filepath, encoding='utf-8')\n",
    "    raw_text = file.read()\n",
    "    raw_text = raw_text.replace('-\\n', '')\n",
    "    raw_text = raw_text.replace('\\n', ' ')\n",
    "    text = text+raw_text\n",
    "    \n",
    "    sentences = []\n",
    "    for s in sent_tokenize(text):\n",
    "        sentences.append(s)\n",
    "    # If there is 'et al.' at the end of the sentence, then join it with the\n",
    "    # with the next sentence\n",
    "    for i, s in enumerate(sentences):\n",
    "        if s[-6:] == 'et al.' and i+1 < len(sentences):\n",
    "            sentences[i] = s + \" \"+sentences[i+1]\n",
    "\n",
    "    totcit, citation_sentences = get_citation_sentences(\n",
    "        sentences, springer=False)\n",
    "    citation_sentences_folder = parentdir+\"\\\\\"+\"citation_sentences\"\n",
    "    with open(citation_sentences_folder+\"\\\\\"+filename,'w', encoding = \"utf-8\") as f:\n",
    "        for sentence in citation_sentences:\n",
    "            if sentence[0] == '(' or sentence[0] == '[' or len(word_tokenize(sentence))>300:\n",
    "                continue\n",
    "            f.write(sentence+\"\\n\")"
   ]
  },
  {
   "cell_type": "code",
   "execution_count": 18,
   "metadata": {},
   "outputs": [],
   "source": [
    "# Demo for loading the citation sentences from the text files\n",
    "# citation_sentences_folder = parentdir+\"\\\\\"+\"citation_sentences\"\n",
    "# citelist = []\n",
    "# with open(citation_sentences_folder+\"\\\\\"+\"Cubeflow.txt\",'r', encoding = 'utf-8') as f:\n",
    "#     for line in f:\n",
    "#         citelist.append(line.strip(\"\\n\"))"
   ]
  },
  {
   "cell_type": "code",
   "execution_count": null,
   "metadata": {},
   "outputs": [],
   "source": []
  }
 ],
 "metadata": {
  "kernelspec": {
   "display_name": "Python 3",
   "language": "python",
   "name": "python3"
  },
  "language_info": {
   "codemirror_mode": {
    "name": "ipython",
    "version": 3
   },
   "file_extension": ".py",
   "mimetype": "text/x-python",
   "name": "python",
   "nbconvert_exporter": "python",
   "pygments_lexer": "ipython3",
   "version": "3.8.8"
  }
 },
 "nbformat": 4,
 "nbformat_minor": 4
}
