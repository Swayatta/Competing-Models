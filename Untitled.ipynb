{
 "cells": [
  {
   "cell_type": "code",
   "execution_count": 4,
   "id": "a825dab6",
   "metadata": {},
   "outputs": [
    {
     "name": "stdout",
     "output_type": "stream",
     "text": [
      "E:\\Jupyter\\Competing Models\\data\n"
     ]
    }
   ],
   "source": [
    "from os import listdir\n",
    "%cd E:\\\\Jupyter\\\\Competing Models\\\\data"
   ]
  },
  {
   "cell_type": "code",
   "execution_count": 37,
   "id": "1bfaa3a5",
   "metadata": {},
   "outputs": [],
   "source": [
    "ann_files = listdir('.\\\\annotations')\n",
    "text_files = listdir('.\\\\Text')\n",
    "total_sents = 0\n",
    "count = 0\n",
    "for file in text_files:\n",
    "    if file in ann_files:\n",
    "        with open('.\\\\Text\\\\'+file,'r', encoding = 'utf-8') as f:\n",
    "            text = f.read()\n",
    "            sents = text.split('.')\n",
    "            if len(sents) > 50:\n",
    "                count +=1\n",
    "            total_sents +=len(sents)"
   ]
  },
  {
   "cell_type": "code",
   "execution_count": 38,
   "id": "f71311cd",
   "metadata": {},
   "outputs": [
    {
     "data": {
      "text/plain": [
       "74"
      ]
     },
     "execution_count": 38,
     "metadata": {},
     "output_type": "execute_result"
    }
   ],
   "source": [
    "count"
   ]
  },
  {
   "cell_type": "code",
   "execution_count": 12,
   "id": "7a13e1fc",
   "metadata": {},
   "outputs": [],
   "source": [
    "entities = []\n",
    "for file in ann_files:\n",
    "    with open(\".\\\\annotations\\\\\"+file,'r',encoding = 'utf-8') as f:\n",
    "        for line in f:\n",
    "            entities.append(line.strip('\\n'))"
   ]
  },
  {
   "cell_type": "code",
   "execution_count": 42,
   "id": "b93f3215",
   "metadata": {},
   "outputs": [
    {
     "data": {
      "text/plain": [
       "(462.08, 34656, 622, 8.293333333333333, 473)"
      ]
     },
     "execution_count": 42,
     "metadata": {},
     "output_type": "execute_result"
    }
   ],
   "source": [
    "total_sents/len(ann_files), total_sents, len(entities), len(entities)/len(ann_files), len(set(entities))"
   ]
  }
 ],
 "metadata": {
  "kernelspec": {
   "display_name": "Python 3",
   "language": "python",
   "name": "python3"
  },
  "language_info": {
   "codemirror_mode": {
    "name": "ipython",
    "version": 3
   },
   "file_extension": ".py",
   "mimetype": "text/x-python",
   "name": "python",
   "nbconvert_exporter": "python",
   "pygments_lexer": "ipython3",
   "version": "3.8.8"
  }
 },
 "nbformat": 4,
 "nbformat_minor": 5
}
