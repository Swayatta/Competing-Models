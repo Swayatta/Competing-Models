{
 "cells": [
  {
   "cell_type": "code",
   "execution_count": 1,
   "metadata": {},
   "outputs": [],
   "source": [
    "from io import StringIO\n",
    "\n",
    "from pdfminer.converter import TextConverter\n",
    "from pdfminer.layout import LAParams\n",
    "from pdfminer.pdfdocument import PDFDocument\n",
    "from pdfminer.pdfinterp import PDFResourceManager, PDFPageInterpreter\n",
    "from pdfminer.pdfpage import PDFPage\n",
    "from pdfminer.pdfparser import PDFParser\n",
    "import os\n",
    "from os import listdir\n",
    "from os.path import isfile, join\n",
    "import shutil"
   ]
  },
  {
   "cell_type": "code",
   "execution_count": 1,
   "metadata": {},
   "outputs": [
    {
     "name": "stdout",
     "output_type": "stream",
     "text": [
      "Requirement already satisfied: pdfminer in e:\\anaconda3\\lib\\site-packages (20191125)\n",
      "Requirement already satisfied: pycryptodome in e:\\anaconda3\\lib\\site-packages (from pdfminer) (3.11.0)\n"
     ]
    }
   ],
   "source": [
    "!pip install pdfminer"
   ]
  },
  {
   "cell_type": "code",
   "execution_count": 2,
   "metadata": {},
   "outputs": [],
   "source": [
    "#Function to convert pdf to text\n",
    "def outtext(filepath):    \n",
    "    output_string = StringIO()\n",
    "    with open(filepath, 'rb') as in_file:\n",
    "        parser = PDFParser(in_file)\n",
    "        doc = PDFDocument(parser)\n",
    "        rsrcmgr = PDFResourceManager()\n",
    "        device = TextConverter(rsrcmgr, output_string, laparams=LAParams())\n",
    "        interpreter = PDFPageInterpreter(rsrcmgr, device)\n",
    "        for page in PDFPage.create_pages(doc):\n",
    "            interpreter.process_page(page)\n",
    "\n",
    "    text = (output_string.getvalue())\n",
    "    return text\n",
    "#Function to preprocess the text\n",
    "def preprocess(text):\n",
    "    #Partitioning the string to print only upto the section \"References\"\n",
    "    text = text.partition(\"References\")[0]\n",
    "    return text\n",
    "\n",
    "#Function to write the .pdf files to .txt files. The input is the parentdirectory, the dataset folder containing \n",
    "#all the research papers. A folder called \"Text is created containing all the .txt version of the research papers\"\n",
    "def write_to_outputfolder(parentdir,datasetdir):\n",
    "    inputfolder = join(parentdir,datasetdir)\n",
    "    fileslist = [f for f in listdir(inputfolder) if isfile(join(inputfolder, f))] #Creating the fileslist\n",
    "    textdir = \"Text\" #Name of the output folder\n",
    "    outputfolder = join(parentdir,textdir)\n",
    "    \n",
    "    #Code to overwrite the outputfolder if it already exists\n",
    "    if os.path.exists(outputfolder): \n",
    "        shutil.rmtree(outputfolder)\n",
    "    os.makedirs(outputfolder)\n",
    "    \n",
    "    #Creating the .txt version of the pdf files in the outputfolder\n",
    "    for i in range(len(fileslist)):\n",
    "        try:\n",
    "            newtextfile = open(outputfolder+\"\\\\\"+ fileslist[i][:-4] + \".txt\",\"w\",encoding = \"utf-8\")\n",
    "            text = outtext(inputfolder+ \"\\\\\"+ fileslist[i])\n",
    "            text = preprocess(text) #Preprocessing the obtained text\n",
    "            newtextfile.write(text)\n",
    "            newtextfile.close()\n",
    "        except:\n",
    "            print(fileslist[i])"
   ]
  },
  {
   "cell_type": "code",
   "execution_count": 3,
   "metadata": {},
   "outputs": [
    {
     "name": "stdout",
     "output_type": "stream",
     "text": [
      "2021.mrl-1.2.pdf\n",
      "2021.naacl-main.41.pdf\n",
      "SAFE.pdf\n"
     ]
    }
   ],
   "source": [
    "parentdir = 'E:\\Jupyter\\Competing Models\\data'\n",
    "datasetdir = 'Research Papers2'\n",
    "write_to_outputfolder(parentdir,datasetdir)"
   ]
  },
  {
   "cell_type": "code",
   "execution_count": null,
   "metadata": {},
   "outputs": [],
   "source": []
  },
  {
   "cell_type": "code",
   "execution_count": null,
   "metadata": {},
   "outputs": [],
   "source": []
  }
 ],
 "metadata": {
  "kernelspec": {
   "display_name": "Python 3",
   "language": "python",
   "name": "python3"
  },
  "language_info": {
   "codemirror_mode": {
    "name": "ipython",
    "version": 3
   },
   "file_extension": ".py",
   "mimetype": "text/x-python",
   "name": "python",
   "nbconvert_exporter": "python",
   "pygments_lexer": "ipython3",
   "version": "3.8.8"
  }
 },
 "nbformat": 4,
 "nbformat_minor": 4
}
