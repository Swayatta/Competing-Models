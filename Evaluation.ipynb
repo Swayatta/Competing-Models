{
 "cells": [
  {
   "cell_type": "code",
   "execution_count": 1,
   "id": "585e6153",
   "metadata": {},
   "outputs": [],
   "source": [
    "from os import listdir"
   ]
  },
  {
   "cell_type": "code",
   "execution_count": 15,
   "id": "a859b180",
   "metadata": {},
   "outputs": [],
   "source": [
    "annotations_dir = '.\\\\data\\\\annotations'\n",
    "output_dir = '.\\\\output_TextRank\\\\output'\n",
    "annotation_files = listdir(annotations_dir)\n",
    "output_files = listdir(output_dir)"
   ]
  },
  {
   "cell_type": "code",
   "execution_count": 16,
   "id": "4cc8fad8",
   "metadata": {},
   "outputs": [
    {
     "data": {
      "text/plain": [
       "(0.06389413988657845, 0.2739059967585089)"
      ]
     },
     "execution_count": 16,
     "metadata": {},
     "output_type": "execute_result"
    }
   ],
   "source": [
    "                        ##### First Stage (Keyphrase) #####\n",
    "tp,total_pred, total_annotated = 0,0,0\n",
    "for filename in annotation_files:\n",
    "    annotated_models = []\n",
    "    with open(annotations_dir+\"\\\\\"+filename,'r', encoding = 'utf-8') as file:\n",
    "        for line in file:\n",
    "            annotated_models.append(line.strip(\"\\n\"))\n",
    "    output_models = []\n",
    "    with open(output_dir+\"\\\\\"+\"keyphrase\"+\"\\\\\"+filename,'r', encoding = 'utf-8') as file:\n",
    "        for line in file:\n",
    "            output_models.append(line.strip(\"\\n\"))\n",
    "    annotated_models = [ent.replace('-','').lower() for ent in annotated_models]\n",
    "    for entity in annotated_models:\n",
    "        entity = entity.lower()\n",
    "        for ent in output_models:\n",
    "            if ent==entity or ent+\"s\" == entity or ent == entity+\"s\":\n",
    "                tp+=1\n",
    "    total_pred += len(set(output_models))\n",
    "    total_annotated += len(set(annotated_models))\n",
    "    \n",
    "micro_prec, micro_recall = tp/total_pred, tp/total_annotated\n",
    "micro_prec, micro_recall"
   ]
  },
  {
   "cell_type": "code",
   "execution_count": 17,
   "id": "5e6619da",
   "metadata": {},
   "outputs": [
    {
     "data": {
      "text/plain": [
       "(0.5123674911660777, 0.23500810372771475)"
      ]
     },
     "execution_count": 17,
     "metadata": {},
     "output_type": "execute_result"
    }
   ],
   "source": [
    "                        ##### Final Stage #####\n",
    "tp,total_pred, total_annotated = 0,0,0\n",
    "for filename in annotation_files:\n",
    "    annotated_models = []\n",
    "    with open(annotations_dir+\"\\\\\"+filename,'r', encoding = 'utf-8') as file:\n",
    "        for line in file:\n",
    "            annotated_models.append(line.strip(\"\\n\"))\n",
    "    output_models = []\n",
    "    with open(output_dir+\"\\\\\"+\"final output\"+\"\\\\\"+filename,'r', encoding = 'utf-8') as file:\n",
    "        for line in file:\n",
    "            output_models.append(line.strip(\"\\n\"))\n",
    "    annotated_models = [ent.replace('-','').lower() for ent in annotated_models]\n",
    "    for entity in annotated_models:\n",
    "        entity = entity.lower()\n",
    "        for ent in output_models:\n",
    "            if ent==entity or ent+\"s\" == entity or ent == entity+\"s\":\n",
    "                tp+=1\n",
    "    total_pred += len(set(output_models))\n",
    "    total_annotated += len(set(annotated_models))\n",
    "    \n",
    "micro_prec, micro_recall = tp/total_pred, tp/total_annotated\n",
    "micro_prec, micro_recall"
   ]
  },
  {
   "cell_type": "code",
   "execution_count": null,
   "id": "8610d187",
   "metadata": {},
   "outputs": [],
   "source": []
  }
 ],
 "metadata": {
  "kernelspec": {
   "display_name": "Python 3",
   "language": "python",
   "name": "python3"
  },
  "language_info": {
   "codemirror_mode": {
    "name": "ipython",
    "version": 3
   },
   "file_extension": ".py",
   "mimetype": "text/x-python",
   "name": "python",
   "nbconvert_exporter": "python",
   "pygments_lexer": "ipython3",
   "version": "3.8.8"
  }
 },
 "nbformat": 4,
 "nbformat_minor": 5
}
